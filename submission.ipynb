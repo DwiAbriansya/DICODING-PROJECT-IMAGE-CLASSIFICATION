{
 "cells": [
  {
   "cell_type": "code",
   "execution_count": null,
   "metadata": {},
   "outputs": [],
   "source": [
    "pip install tensorflow"
   ]
  },
  {
   "cell_type": "code",
   "execution_count": 1,
   "metadata": {
    "id": "YS4gFD482MFh"
   },
   "outputs": [
    {
     "ename": "ModuleNotFoundError",
     "evalue": "No module named 'tensorflow'",
     "output_type": "error",
     "traceback": [
      "\u001b[1;31m---------------------------------------------------------------------------\u001b[0m",
      "\u001b[1;31mModuleNotFoundError\u001b[0m                       Traceback (most recent call last)",
      "\u001b[1;32m<ipython-input-1-abc9252a18fb>\u001b[0m in \u001b[0;36m<module>\u001b[1;34m\u001b[0m\n\u001b[1;32m----> 1\u001b[1;33m \u001b[1;32mimport\u001b[0m \u001b[0mtensorflow\u001b[0m \u001b[1;32mas\u001b[0m \u001b[0mtf\u001b[0m\u001b[1;33m\u001b[0m\u001b[1;33m\u001b[0m\u001b[0m\n\u001b[0m\u001b[0;32m      2\u001b[0m \u001b[1;32mfrom\u001b[0m \u001b[0mtensorflow\u001b[0m\u001b[1;33m.\u001b[0m\u001b[0mkeras\u001b[0m\u001b[1;33m.\u001b[0m\u001b[0moptimizers\u001b[0m \u001b[1;32mimport\u001b[0m \u001b[0mRMSprop\u001b[0m\u001b[1;33m\u001b[0m\u001b[1;33m\u001b[0m\u001b[0m\n\u001b[0;32m      3\u001b[0m \u001b[1;32mfrom\u001b[0m \u001b[0mtensorflow\u001b[0m\u001b[1;33m.\u001b[0m\u001b[0mkeras\u001b[0m\u001b[1;33m.\u001b[0m\u001b[0mpreprocessing\u001b[0m\u001b[1;33m.\u001b[0m\u001b[0mimage\u001b[0m \u001b[1;32mimport\u001b[0m \u001b[0mImageDataGenerator\u001b[0m\u001b[1;33m\u001b[0m\u001b[1;33m\u001b[0m\u001b[0m\n",
      "\u001b[1;31mModuleNotFoundError\u001b[0m: No module named 'tensorflow'"
     ]
    }
   ],
   "source": [
    "import tensorflow as tf\n",
    "from tensorflow.keras.optimizers import RMSprop\n",
    "from tensorflow.keras.preprocessing.image import ImageDataGenerator"
   ]
  },
  {
   "cell_type": "code",
   "execution_count": 2,
   "metadata": {
    "colab": {
     "base_uri": "https://localhost:8080/"
    },
    "id": "-8aar7Zh2Noq",
    "outputId": "79fe4a9a-8071-4702-87fb-b50e246deba4"
   },
   "outputs": [
    {
     "name": "stdout",
     "output_type": "stream",
     "text": [
      "--2021-07-05 17:20:16--  https://dicodingacademy.blob.core.windows.net/picodiploma/ml_pemula_academy/rockpaperscissors.zip\n",
      "Resolving dicodingacademy.blob.core.windows.net (dicodingacademy.blob.core.windows.net)... 52.239.197.36\n",
      "Connecting to dicodingacademy.blob.core.windows.net (dicodingacademy.blob.core.windows.net)|52.239.197.36|:443... connected.\n",
      "HTTP request sent, awaiting response... 200 OK\n",
      "Length: 322873683 (308M) [application/zip]\n",
      "Saving to: ‘/tmp/rockpaperscissors.zip’\n",
      "\n",
      "/tmp/rockpapersciss 100%[===================>] 307.92M  3.29MB/s    in 82s     \n",
      "\n",
      "2021-07-05 17:21:39 (3.76 MB/s) - ‘/tmp/rockpaperscissors.zip’ saved [322873683/322873683]\n",
      "\n"
     ]
    }
   ],
   "source": [
    "!wget --no-check-certificate \\\n",
    "  https://dicodingacademy.blob.core.windows.net/picodiploma/ml_pemula_academy/rockpaperscissors.zip \\\n",
    "  -O /tmp/rockpaperscissors.zip"
   ]
  },
  {
   "cell_type": "code",
   "execution_count": 3,
   "metadata": {
    "id": "XNsS6Muj2N2J"
   },
   "outputs": [],
   "source": [
    "# melakukan ekstraksi pada file zip\n",
    "import zipfile,os\n",
    "local_zip = '/tmp/rockpaperscissors.zip'\n",
    "zip_ref = zipfile.ZipFile(local_zip, 'r')\n",
    "zip_ref.extractall('/tmp')\n",
    "zip_ref.close()\n",
    "\n",
    "base_dir = '/tmp/rockpaperscissors'\n",
    "data_dir = os.path.join(base_dir, 'rps-cv-images')"
   ]
  },
  {
   "cell_type": "code",
   "execution_count": 4,
   "metadata": {
    "colab": {
     "base_uri": "https://localhost:8080/"
    },
    "id": "215sn4v_VkWo",
    "outputId": "2bbc9aa9-fb6f-40e3-8873-a33ae4d0d290"
   },
   "outputs": [
    {
     "name": "stdout",
     "output_type": "stream",
     "text": [
      "Collecting split-folders\n",
      "  Downloading https://files.pythonhosted.org/packages/b8/5f/3c2b2f7ea5e047c8cdc3bb00ae582c5438fcdbbedcc23b3cc1c2c7aae642/split_folders-0.4.3-py3-none-any.whl\n",
      "Requirement already satisfied: tqdm in /usr/local/lib/python3.7/dist-packages (4.41.1)\n",
      "Installing collected packages: split-folders\n",
      "Successfully installed split-folders-0.4.3\n"
     ]
    }
   ],
   "source": [
    "pip install split-folders tqdm"
   ]
  },
  {
   "cell_type": "code",
   "execution_count": 5,
   "metadata": {
    "colab": {
     "base_uri": "https://localhost:8080/"
    },
    "id": "C84eCcXXSxcp",
    "outputId": "ad0ae53f-e0c6-41d4-d042-4d19417f1889"
   },
   "outputs": [
    {
     "name": "stderr",
     "output_type": "stream",
     "text": [
      "Copying files: 2188 files [00:00, 2404.21 files/s]\n"
     ]
    }
   ],
   "source": [
    "import splitfolders\n",
    "\n",
    "splitfolders.ratio(data_dir, output=data_dir+'/data', ratio=(.6, .4))"
   ]
  },
  {
   "cell_type": "code",
   "execution_count": 6,
   "metadata": {
    "colab": {
     "base_uri": "https://localhost:8080/"
    },
    "id": "hX4kzlOlTMhh",
    "outputId": "aaaa813a-4d3a-4499-d389-28ef4a2057ed"
   },
   "outputs": [
    {
     "data": {
      "text/plain": [
       "['paper', 'data', 'scissors', 'rock', 'README_rpc-cv-images.txt']"
      ]
     },
     "execution_count": 6,
     "metadata": {
      "tags": []
     },
     "output_type": "execute_result"
    }
   ],
   "source": [
    "os.listdir(data_dir)"
   ]
  },
  {
   "cell_type": "code",
   "execution_count": 7,
   "metadata": {
    "colab": {
     "base_uri": "https://localhost:8080/"
    },
    "id": "ES52eiqgUXh_",
    "outputId": "697724e3-8cff-4d8e-fd14-9a387d3d90da"
   },
   "outputs": [
    {
     "data": {
      "text/plain": [
       "['val', 'train']"
      ]
     },
     "execution_count": 7,
     "metadata": {
      "tags": []
     },
     "output_type": "execute_result"
    }
   ],
   "source": [
    "os.listdir(data_dir+'/data')"
   ]
  },
  {
   "cell_type": "code",
   "execution_count": 8,
   "metadata": {
    "id": "oUgQ18hJVwc2"
   },
   "outputs": [],
   "source": [
    "train_dir = os.path.join(data_dir, 'data/train')\n",
    "val_dir = os.path.join(data_dir, 'data/val')"
   ]
  },
  {
   "cell_type": "code",
   "execution_count": 9,
   "metadata": {
    "id": "Hoo8Fz4NIFQz"
   },
   "outputs": [],
   "source": [
    "train_datagen = ImageDataGenerator(\n",
    "                    rescale=1./255,\n",
    "                    rotation_range=20,\n",
    "                    horizontal_flip=True,\n",
    "                    shear_range = 0.2,\n",
    "                    fill_mode = 'nearest')\n",
    "\n",
    "test_datagen = ImageDataGenerator(\n",
    "                    rescale=1./255,\n",
    "                    rotation_range=20,\n",
    "                    horizontal_flip=True,\n",
    "                    shear_range = 0.2,\n",
    "                    fill_mode = 'nearest')"
   ]
  },
  {
   "cell_type": "code",
   "execution_count": 22,
   "metadata": {
    "colab": {
     "base_uri": "https://localhost:8080/"
    },
    "id": "C_ERepBlLIS0",
    "outputId": "09f0148e-e5a6-4cca-bf8b-2b61dae007e1"
   },
   "outputs": [
    {
     "name": "stdout",
     "output_type": "stream",
     "text": [
      "Found 1312 images belonging to 3 classes.\n",
      "Found 876 images belonging to 3 classes.\n"
     ]
    }
   ],
   "source": [
    "train_generator = train_datagen.flow_from_directory(\n",
    "        train_dir,  # direktori data latih\n",
    "        target_size=(300, 200),  # mengubah resolusi seluruh gambar menjadi 150x150 piksel\n",
    "        batch_size=8,\n",
    "        # karena ini merupakan masalah klasifikasi 2 kelas maka menggunakan class_mode = 'binary'\n",
    "        class_mode='categorical')\n",
    "\n",
    "validation_generator = test_datagen.flow_from_directory(\n",
    "        val_dir, # direktori data validasi\n",
    "        target_size=(300, 200), # mengubah resolusi seluruh gambar menjadi 150x150 piksel\n",
    "        batch_size=8, # karena ini merupakan masalah klasifikasi 2 kelas maka menggunakan class_mode = 'binary'\n",
    "        class_mode='categorical')"
   ]
  },
  {
   "cell_type": "code",
   "execution_count": 23,
   "metadata": {
    "id": "QPMfg7cqLoB9"
   },
   "outputs": [],
   "source": [
    "model = tf.keras.models.Sequential([\n",
    "    # Note the input shape is the desired size of the image 150x150 with 3 bytes color\n",
    "    # This is the first convolution\n",
    "    tf.keras.layers.Conv2D(64, (3,3), activation='relu', input_shape=(300, 200, 3)),\n",
    "    tf.keras.layers.MaxPooling2D(2, 2),\n",
    "    # The second convolution\n",
    "    tf.keras.layers.Conv2D(64, (3,3), activation='relu'),\n",
    "    tf.keras.layers.MaxPooling2D(2,2),\n",
    "    # The third convolution\n",
    "    tf.keras.layers.Conv2D(128, (3,3), activation='relu'),\n",
    "    tf.keras.layers.MaxPooling2D(2,2),\n",
    "    # The fourth convolution\n",
    "    tf.keras.layers.Conv2D(128, (3,3), activation='relu'),\n",
    "    tf.keras.layers.MaxPooling2D(2,2),\n",
    "    # Flatten the results to feed into a DNN\n",
    "    tf.keras.layers.Flatten(),\n",
    "    tf.keras.layers.Dropout(0.5),\n",
    "    # 512 neuron hidden layer\n",
    "    tf.keras.layers.Dense(512, activation='relu'),\n",
    "    tf.keras.layers.Dense(3, activation='softmax')\n",
    "])"
   ]
  },
  {
   "cell_type": "code",
   "execution_count": 24,
   "metadata": {
    "id": "e75Pt1JsWyLW"
   },
   "outputs": [],
   "source": [
    "model.compile(loss='categorical_crossentropy',\n",
    "              optimizer='rmsprop',\n",
    "              metrics=['accuracy'])"
   ]
  },
  {
   "cell_type": "code",
   "execution_count": null,
   "metadata": {
    "colab": {
     "base_uri": "https://localhost:8080/"
    },
    "id": "cWhHcRkXW0k-",
    "outputId": "c126c480-3ed2-4276-b7a4-7ed140013d07"
   },
   "outputs": [
    {
     "name": "stdout",
     "output_type": "stream",
     "text": [
      "Epoch 1/25\n",
      "20/20 [==============================] - 39s 2s/step - loss: 1.3841 - accuracy: 0.3562 - val_loss: 1.0849 - val_accuracy: 0.4062\n",
      "Epoch 2/25\n",
      "20/20 [==============================] - 36s 2s/step - loss: 1.1384 - accuracy: 0.2937 - val_loss: 1.0763 - val_accuracy: 0.3750\n",
      "Epoch 3/25\n",
      "20/20 [==============================] - 36s 2s/step - loss: 1.1048 - accuracy: 0.3812 - val_loss: 1.0671 - val_accuracy: 0.4062\n",
      "Epoch 4/25\n",
      "20/20 [==============================] - 36s 2s/step - loss: 1.1190 - accuracy: 0.3438 - val_loss: 1.0360 - val_accuracy: 0.6562\n",
      "Epoch 5/25\n",
      "20/20 [==============================] - 36s 2s/step - loss: 0.9904 - accuracy: 0.5375 - val_loss: 0.9501 - val_accuracy: 0.4375\n",
      "Epoch 6/25\n",
      "20/20 [==============================] - 36s 2s/step - loss: 1.0602 - accuracy: 0.5938 - val_loss: 1.0810 - val_accuracy: 0.4375\n",
      "Epoch 7/25\n",
      "20/20 [==============================] - 35s 2s/step - loss: 0.7991 - accuracy: 0.6875 - val_loss: 0.6782 - val_accuracy: 0.7188\n",
      "Epoch 8/25\n",
      "20/20 [==============================] - 36s 2s/step - loss: 0.6721 - accuracy: 0.7563 - val_loss: 0.6984 - val_accuracy: 0.7188\n",
      "Epoch 9/25\n",
      "20/20 [==============================] - 36s 2s/step - loss: 0.5159 - accuracy: 0.8500 - val_loss: 0.6968 - val_accuracy: 0.6875\n",
      "Epoch 10/25\n",
      "20/20 [==============================] - 36s 2s/step - loss: 0.5250 - accuracy: 0.8125 - val_loss: 0.6025 - val_accuracy: 0.8125\n",
      "Epoch 11/25\n",
      "20/20 [==============================] - 35s 2s/step - loss: 0.3908 - accuracy: 0.8687 - val_loss: 0.3383 - val_accuracy: 0.8438\n",
      "Epoch 12/25\n",
      "20/20 [==============================] - 36s 2s/step - loss: 0.4356 - accuracy: 0.8062 - val_loss: 0.6450 - val_accuracy: 0.6875\n",
      "Epoch 13/25\n",
      "20/20 [==============================] - 36s 2s/step - loss: 0.3572 - accuracy: 0.8938 - val_loss: 0.6755 - val_accuracy: 0.8438\n",
      "Epoch 14/25\n",
      "20/20 [==============================] - 35s 2s/step - loss: 0.3018 - accuracy: 0.8938 - val_loss: 0.5216 - val_accuracy: 0.8438\n",
      "Epoch 15/25\n",
      "20/20 [==============================] - 36s 2s/step - loss: 0.4036 - accuracy: 0.8750 - val_loss: 0.5296 - val_accuracy: 0.7188\n",
      "Epoch 16/25\n",
      "20/20 [==============================] - 36s 2s/step - loss: 0.4000 - accuracy: 0.8625 - val_loss: 0.8840 - val_accuracy: 0.6875\n",
      "Epoch 17/25\n",
      "20/20 [==============================] - 37s 2s/step - loss: 0.4076 - accuracy: 0.8438 - val_loss: 0.5492 - val_accuracy: 0.7500\n",
      "Epoch 18/25\n",
      "11/20 [===============>..............] - ETA: 15s - loss: 0.1595 - accuracy: 0.9659"
     ]
    }
   ],
   "source": [
    "history = model.fit(\n",
    "      train_generator,\n",
    "      steps_per_epoch=20,\n",
    "      epochs=25,\n",
    "      validation_data=validation_generator,\n",
    "      validation_steps=4,\n",
    "      verbose=1)"
   ]
  },
  {
   "cell_type": "code",
   "execution_count": null,
   "metadata": {
    "id": "joTIeVNEW3ik"
   },
   "outputs": [],
   "source": []
  }
 ],
 "metadata": {
  "colab": {
   "collapsed_sections": [],
   "name": "submission.ipynb",
   "provenance": []
  },
  "kernelspec": {
   "display_name": "Python 3",
   "language": "python",
   "name": "python3"
  },
  "language_info": {
   "codemirror_mode": {
    "name": "ipython",
    "version": 3
   },
   "file_extension": ".py",
   "mimetype": "text/x-python",
   "name": "python",
   "nbconvert_exporter": "python",
   "pygments_lexer": "ipython3",
   "version": "3.8.5"
  }
 },
 "nbformat": 4,
 "nbformat_minor": 4
}
